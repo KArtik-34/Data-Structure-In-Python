{
 "cells": [
  {
   "cell_type": "markdown",
   "id": "e7f940d5",
   "metadata": {},
   "source": [
    "Here by using the binary search we are going to find the floor of square root of the number."
   ]
  },
  {
   "cell_type": "code",
   "execution_count": 1,
   "id": "5bb6d158",
   "metadata": {},
   "outputs": [],
   "source": [
    "#The naive approch to this question is very simple and can be done in O(sqrt(n)) time complexity.\n",
    "#here is the naive approch too .\n",
    "def sqrt(n):\n",
    "    i=1\n",
    "    while i*i<=n:\n",
    "        i+=1\n",
    "    return i-1\n"
   ]
  },
  {
   "cell_type": "code",
   "execution_count": 2,
   "id": "faf2d914",
   "metadata": {},
   "outputs": [
    {
     "name": "stdout",
     "output_type": "stream",
     "text": [
      "3\n"
     ]
    }
   ],
   "source": [
    "print(sqrt(15))"
   ]
  },
  {
   "cell_type": "code",
   "execution_count": 5,
   "id": "02cb393f",
   "metadata": {},
   "outputs": [],
   "source": [
    "#Now the efficient way is to do it by using the binary seach.\n",
    "\n",
    "def sqrtfloor(n):\n",
    "    low=1\n",
    "    high=n\n",
    "    ans=1\n",
    "    while low<=high:\n",
    "        mid=(low+high)//2\n",
    "        msq=mid*mid\n",
    "        if msq==n:\n",
    "            return mid\n",
    "        elif msq>n:\n",
    "            high=mid-1\n",
    "        else:\n",
    "            low=mid+1\n",
    "            ans=mid\n",
    "    return ans\n",
    "\n",
    "#the approach of doing mid=ans is to find the last occurence of something that is the solution of the problem."
   ]
  },
  {
   "cell_type": "code",
   "execution_count": 6,
   "id": "1d41a946",
   "metadata": {},
   "outputs": [
    {
     "name": "stdout",
     "output_type": "stream",
     "text": [
      "3\n"
     ]
    }
   ],
   "source": [
    "print(sqrtfloor(15))"
   ]
  },
  {
   "cell_type": "code",
   "execution_count": null,
   "id": "858520c3",
   "metadata": {},
   "outputs": [],
   "source": []
  }
 ],
 "metadata": {
  "kernelspec": {
   "display_name": "Python 3 (ipykernel)",
   "language": "python",
   "name": "python3"
  },
  "language_info": {
   "codemirror_mode": {
    "name": "ipython",
    "version": 3
   },
   "file_extension": ".py",
   "mimetype": "text/x-python",
   "name": "python",
   "nbconvert_exporter": "python",
   "pygments_lexer": "ipython3",
   "version": "3.9.13"
  }
 },
 "nbformat": 4,
 "nbformat_minor": 5
}
