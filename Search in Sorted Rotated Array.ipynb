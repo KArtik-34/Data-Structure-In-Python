{
 "cells": [
  {
   "cell_type": "code",
   "execution_count": 1,
   "id": "e355e022",
   "metadata": {},
   "outputs": [],
   "source": [
    "def  bsearch(arr,low,high,x):\n",
    "    if low>high:\n",
    "        return -1\n",
    "    mid=(low+high)//2\n",
    "    if arr[mid]==x:\n",
    "        return mid\n",
    "    elif arr[low]<arr[mid]:\n",
    "        if arr[low]<=x<arr[mid]:\n",
    "            return bsearch(arr,0,mid-1,x)\n",
    "        else:\n",
    "            return bsearch(arr,mid+1,high,x)\n",
    "        \n",
    "    else:\n",
    "        if arr[mid]<x<=arr[high]:\n",
    "            return bsearch(arr,mid+1,high,x)\n",
    "        else:\n",
    "            return bsearch(arr,low,mid-1,x)\n",
    "        \n",
    "        "
   ]
  },
  {
   "cell_type": "code",
   "execution_count": 6,
   "id": "56e6eb99",
   "metadata": {},
   "outputs": [
    {
     "name": "stdout",
     "output_type": "stream",
     "text": [
      "5\n"
     ]
    }
   ],
   "source": [
    "print(bsearch([10,20,30,40,60,8,9],0,6,8))"
   ]
  },
  {
   "cell_type": "markdown",
   "id": "24245c73",
   "metadata": {},
   "source": [
    "## Below is the recursive version of the code."
   ]
  },
  {
   "cell_type": "code",
   "execution_count": 13,
   "id": "a7368e8e",
   "metadata": {},
   "outputs": [],
   "source": [
    "def search(arr,n,x):\n",
    "    low=0\n",
    "    high=n-1\n",
    "    while low<=high:\n",
    "        mid=(low+high)//2\n",
    "        if arr[mid]==x:return mid\n",
    "        elif arr[low]<arr[mid]:\n",
    "            if arr[low]<=x<arr[mid]:high=mid-1\n",
    "            else:low=mid+1\n",
    "        else:\n",
    "            if arr[mid]<x<=arr[high]:low=mid+1\n",
    "            else:high=mid-1\n",
    "    return -1\n",
    "\n",
    "    "
   ]
  },
  {
   "cell_type": "code",
   "execution_count": 16,
   "id": "06cabb73",
   "metadata": {},
   "outputs": [
    {
     "name": "stdout",
     "output_type": "stream",
     "text": [
      "0\n"
     ]
    }
   ],
   "source": [
    "print(search([10,20,30,40,60,8,9],7,10))"
   ]
  },
  {
   "cell_type": "code",
   "execution_count": null,
   "id": "e7c94810",
   "metadata": {},
   "outputs": [],
   "source": []
  }
 ],
 "metadata": {
  "kernelspec": {
   "display_name": "Python 3 (ipykernel)",
   "language": "python",
   "name": "python3"
  },
  "language_info": {
   "codemirror_mode": {
    "name": "ipython",
    "version": 3
   },
   "file_extension": ".py",
   "mimetype": "text/x-python",
   "name": "python",
   "nbconvert_exporter": "python",
   "pygments_lexer": "ipython3",
   "version": "3.9.13"
  }
 },
 "nbformat": 4,
 "nbformat_minor": 5
}
