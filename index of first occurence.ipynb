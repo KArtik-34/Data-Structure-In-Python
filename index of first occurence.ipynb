{
 "cells": [
  {
   "cell_type": "markdown",
   "id": "79d5ea43",
   "metadata": {},
   "source": [
    "Here is the Iterative solution to this question and it is the best approach for this question too."
   ]
  },
  {
   "cell_type": "code",
   "execution_count": 1,
   "id": "1bb27048",
   "metadata": {},
   "outputs": [],
   "source": [
    "def firstocc(arr,low,high,x):\n",
    "    while low<=high:\n",
    "        mid=(low+high)//2\n",
    "        if arr[mid]<x:\n",
    "            low=mid+1\n",
    "        elif arr[mid]>x:\n",
    "            high=mid-1\n",
    "        else:\n",
    "            if mid==0 or arr[mid]!=arr[mid-1]:\n",
    "                return mid\n",
    "            else:\n",
    "                high=mid-1\n",
    "    return -1\n",
    "\n",
    "                \n",
    "        "
   ]
  },
  {
   "cell_type": "code",
   "execution_count": 4,
   "id": "4dc22790",
   "metadata": {},
   "outputs": [
    {
     "name": "stdout",
     "output_type": "stream",
     "text": [
      "-1\n"
     ]
    }
   ],
   "source": [
    "print(firstocc([5,5,5],0,2,9))"
   ]
  },
  {
   "cell_type": "markdown",
   "id": "58c9e6ba",
   "metadata": {},
   "source": [
    "Now i am going to write the recursive solution too for this question."
   ]
  },
  {
   "cell_type": "code",
   "execution_count": 10,
   "id": "9e55b765",
   "metadata": {},
   "outputs": [],
   "source": [
    "def Firstocc(arr,low,high,x):\n",
    "    if low>high:return -1\n",
    "    mid=(low+high)//2\n",
    "    if arr[mid]<x:\n",
    "        return Firstocc(arr,mid+1,high,x)\n",
    "    elif arr[mid]>x:\n",
    "        return Firstocc(arr,low,mid-1,x)\n",
    "    else:\n",
    "        if mid==0 or arr[mid]!=arr[mid-1]:\n",
    "            return mid\n",
    "        else:\n",
    "            return Firstocc(arr,low,mid-1,x)\n",
    "    return -1"
   ]
  },
  {
   "cell_type": "code",
   "execution_count": 12,
   "id": "5963b705",
   "metadata": {},
   "outputs": [
    {
     "name": "stdout",
     "output_type": "stream",
     "text": [
      "0\n"
     ]
    }
   ],
   "source": [
    "print(Firstocc([5,5,5],0,2,5))"
   ]
  },
  {
   "cell_type": "code",
   "execution_count": null,
   "id": "f844026c",
   "metadata": {},
   "outputs": [],
   "source": []
  }
 ],
 "metadata": {
  "kernelspec": {
   "display_name": "Python 3 (ipykernel)",
   "language": "python",
   "name": "python3"
  },
  "language_info": {
   "codemirror_mode": {
    "name": "ipython",
    "version": 3
   },
   "file_extension": ".py",
   "mimetype": "text/x-python",
   "name": "python",
   "nbconvert_exporter": "python",
   "pygments_lexer": "ipython3",
   "version": "3.9.13"
  }
 },
 "nbformat": 4,
 "nbformat_minor": 5
}
