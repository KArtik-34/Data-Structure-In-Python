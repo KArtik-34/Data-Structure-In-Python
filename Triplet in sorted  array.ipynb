{
 "cells": [
  {
   "cell_type": "markdown",
   "id": "96b78d23",
   "metadata": {},
   "source": [
    "We have to find a triplet whose sum is given.\n",
    "\n",
    "The naive approach is taking O(n3) time complexxity.\n",
    "and space complexity is O(1)\n"
   ]
  },
  {
   "cell_type": "markdown",
   "id": "2eecc4d7",
   "metadata": {},
   "source": [
    "Idea for efficient solution:\n",
    "\n",
    "Hint:Use Pair sum Problem as a subroutine.\n",
    "\n",
    "Traverse the array from left to right.\n",
    "For every element arr[i] if there is any pair with sum(x-arr[i]) in the right side of element array. Then return True, otherwise return False.\n"
   ]
  },
  {
   "cell_type": "code",
   "execution_count": 3,
   "id": "5ce3149b",
   "metadata": {},
   "outputs": [],
   "source": [
    "def pair(arr,l,x):\n",
    "    h=len(arr)-1\n",
    "    while l<h:\n",
    "        if arr[l]+arr[h]==x:return True\n",
    "        elif arr[l]+arr[h]>x:\n",
    "            h-=1\n",
    "        else:\n",
    "            l+=1\n",
    "    return False"
   ]
  },
  {
   "cell_type": "code",
   "execution_count": 4,
   "id": "159ffe3e",
   "metadata": {},
   "outputs": [],
   "source": [
    "def triplet(arr,x):\n",
    "    for i in range(len(arr)):\n",
    "        if pair(arr,i+1,x-arr[i]):return True\n",
    "    return False"
   ]
  },
  {
   "cell_type": "code",
   "execution_count": 5,
   "id": "363a67c7",
   "metadata": {},
   "outputs": [
    {
     "name": "stdout",
     "output_type": "stream",
     "text": [
      "True\n"
     ]
    }
   ],
   "source": [
    "print(triplet([2,3,4,8,9,20,40],32))"
   ]
  },
  {
   "cell_type": "code",
   "execution_count": null,
   "id": "761ea923",
   "metadata": {},
   "outputs": [],
   "source": []
  }
 ],
 "metadata": {
  "kernelspec": {
   "display_name": "Python 3 (ipykernel)",
   "language": "python",
   "name": "python3"
  },
  "language_info": {
   "codemirror_mode": {
    "name": "ipython",
    "version": 3
   },
   "file_extension": ".py",
   "mimetype": "text/x-python",
   "name": "python",
   "nbconvert_exporter": "python",
   "pygments_lexer": "ipython3",
   "version": "3.9.13"
  }
 },
 "nbformat": 4,
 "nbformat_minor": 5
}
