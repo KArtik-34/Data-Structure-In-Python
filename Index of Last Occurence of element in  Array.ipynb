{
 "cells": [
  {
   "cell_type": "markdown",
   "id": "6bf2e961",
   "metadata": {},
   "source": [
    "It is the iterative version of the solution"
   ]
  },
  {
   "cell_type": "code",
   "execution_count": 5,
   "id": "4a63aae2",
   "metadata": {},
   "outputs": [],
   "source": [
    "def lastocc(arr,low,high,x,n):\n",
    "    while low<=high:\n",
    "        mid=(low+high)//2\n",
    "        if arr[mid]<x:\n",
    "            low=mid+1\n",
    "        elif arr[mid]>x:\n",
    "            high=mid-1\n",
    "        else:\n",
    "            if mid==n-1 or arr[mid]!=arr[mid+1]:\n",
    "                return mid\n",
    "            else:\n",
    "                low=mid+1\n",
    "    return -1"
   ]
  },
  {
   "cell_type": "code",
   "execution_count": 8,
   "id": "ba3f860b",
   "metadata": {},
   "outputs": [
    {
     "name": "stdout",
     "output_type": "stream",
     "text": [
      "6\n"
     ]
    }
   ],
   "source": [
    "print(lirstocc([5,10,10,15,20,20,20],0,6,20,7))"
   ]
  },
  {
   "cell_type": "markdown",
   "id": "9e9c7e83",
   "metadata": {},
   "source": [
    "Below is the recursive verion of the solution."
   ]
  },
  {
   "cell_type": "code",
   "execution_count": 14,
   "id": "33eb943c",
   "metadata": {},
   "outputs": [],
   "source": [
    "def Lastocc(arr,low,high,x,n):\n",
    "    if low>high:return -1\n",
    "    mid=(low+high)//2\n",
    "    if arr[mid]<x:\n",
    "        return Lastocc(arr,mid+1,high,x,n)\n",
    "    elif arr[mid]>x:\n",
    "        return Lastocc(arr,low,mid-1,x,n)\n",
    "    else:\n",
    "        if mid==n-1 or arr[mid]!=arr[mid+1]:\n",
    "            return mid\n",
    "        else:\n",
    "            return Lastocc(arr,mid+1,high,x,n)\n",
    "    return -1"
   ]
  },
  {
   "cell_type": "code",
   "execution_count": 15,
   "id": "362152b0",
   "metadata": {},
   "outputs": [
    {
     "name": "stdout",
     "output_type": "stream",
     "text": [
      "6\n"
     ]
    }
   ],
   "source": [
    "print(Lastocc([5,10,10,15,20,20,20],0,6,20,7))"
   ]
  },
  {
   "cell_type": "code",
   "execution_count": null,
   "id": "6bd7f35a",
   "metadata": {},
   "outputs": [],
   "source": []
  }
 ],
 "metadata": {
  "kernelspec": {
   "display_name": "Python 3 (ipykernel)",
   "language": "python",
   "name": "python3"
  },
  "language_info": {
   "codemirror_mode": {
    "name": "ipython",
    "version": 3
   },
   "file_extension": ".py",
   "mimetype": "text/x-python",
   "name": "python",
   "nbconvert_exporter": "python",
   "pygments_lexer": "ipython3",
   "version": "3.9.13"
  }
 },
 "nbformat": 4,
 "nbformat_minor": 5
}
