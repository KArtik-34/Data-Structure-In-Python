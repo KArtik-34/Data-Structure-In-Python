{
 "cells": [
  {
   "cell_type": "markdown",
   "id": "af4e6431",
   "metadata": {},
   "source": [
    "Given is\n",
    "\n",
    "1: Array size,n>=2\n",
    "2:Only one element repeat (any no. of times)\n",
    "3:All the elements from 0 to max(arr) are present\n",
    "Therefore 0<max(arr)<=n-2"
   ]
  },
  {
   "cell_type": "code",
   "execution_count": 2,
   "id": "bff4902a",
   "metadata": {},
   "outputs": [
    {
     "name": "stdout",
     "output_type": "stream",
     "text": [
      "2.0\n"
     ]
    }
   ],
   "source": [
    "arr=[0,2,1,3,2,2]\n",
    "n=len(arr)\n",
    "s=sum(arr)\n",
    "m=max(arr)\n",
    "sum_less=s-m*(m+1)//2\n",
    "n_left=n-(m+1)\n",
    "if n_left==1:\n",
    "    print(sum_less)\n",
    "else:\n",
    "    print(int(sum_less/n_left))"
   ]
  },
  {
   "cell_type": "code",
   "execution_count": 3,
   "id": "eaa1d42d",
   "metadata": {},
   "outputs": [],
   "source": [
    "enumerate?\n"
   ]
  },
  {
   "cell_type": "code",
   "execution_count": 11,
   "id": "7900da2e",
   "metadata": {},
   "outputs": [],
   "source": [
    "def firstRepeated(arr, n):\n",
    "    c={}\n",
    "    for i,val in enumerate(arr):\n",
    "        if val in c:\n",
    "            return c[val]\n",
    "        else:\n",
    "            c[val]=i\n",
    "    return -1\n"
   ]
  },
  {
   "cell_type": "code",
   "execution_count": 12,
   "id": "8c4e2ec6",
   "metadata": {},
   "outputs": [
    {
     "name": "stdout",
     "output_type": "stream",
     "text": [
      "2\n"
     ]
    }
   ],
   "source": [
    "print(firstRepeated([1, 5, 3, 4, 3, 5, 6],7))"
   ]
  },
  {
   "cell_type": "code",
   "execution_count": 10,
   "id": "e3215736",
   "metadata": {},
   "outputs": [
    {
     "name": "stdout",
     "output_type": "stream",
     "text": [
      "0 5\n",
      "1 3\n",
      "2 2\n",
      "3 1\n"
     ]
    }
   ],
   "source": [
    "for i,j in enumerate([5,3,2,1]):\n",
    "    print(i,j)"
   ]
  },
  {
   "cell_type": "code",
   "execution_count": 13,
   "id": "c6fe48b3",
   "metadata": {},
   "outputs": [
    {
     "name": "stdout",
     "output_type": "stream",
     "text": [
      "['', '']\n"
     ]
    }
   ],
   "source": [
    "print(\"-\".split(\"-\"))"
   ]
  },
  {
   "cell_type": "code",
   "execution_count": null,
   "id": "4d3035c4",
   "metadata": {},
   "outputs": [],
   "source": []
  }
 ],
 "metadata": {
  "kernelspec": {
   "display_name": "Python 3 (ipykernel)",
   "language": "python",
   "name": "python3"
  },
  "language_info": {
   "codemirror_mode": {
    "name": "ipython",
    "version": 3
   },
   "file_extension": ".py",
   "mimetype": "text/x-python",
   "name": "python",
   "nbconvert_exporter": "python",
   "pygments_lexer": "ipython3",
   "version": "3.9.13"
  }
 },
 "nbformat": 4,
 "nbformat_minor": 5
}
