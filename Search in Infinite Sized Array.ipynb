{
 "cells": [
  {
   "cell_type": "code",
   "execution_count": 2,
   "id": "1b0056ce",
   "metadata": {},
   "outputs": [],
   "source": [
    "def bsearch(arr,low,high,x):\n",
    "    while low<=high:\n",
    "        mid=(low+high)//2\n",
    "        if arr[mid]==x:\n",
    "            return mid\n",
    "        elif arr[mid]>x:\n",
    "            high=mid-1\n",
    "        else:\n",
    "            low=mid+1\n",
    "    "
   ]
  },
  {
   "cell_type": "code",
   "execution_count": 7,
   "id": "7c7d0744",
   "metadata": {},
   "outputs": [],
   "source": [
    "def search(arr,x):\n",
    "    '''\n",
    "    Here we have not given the value of high \n",
    "    we have to find a solution O(log(pos)).\n",
    "    '''\n",
    "    if arr[0]==x:return 0\n",
    "    i=1\n",
    "    while arr[i]<x:\n",
    "        i*=2\n",
    "        print(\"hi\")\n",
    "    if arr[i]==x:\n",
    "        return i\n",
    "    return bsearch(arr,i//2+1,i-1,x)"
   ]
  },
  {
   "cell_type": "code",
   "execution_count": 8,
   "id": "bb255a89",
   "metadata": {},
   "outputs": [
    {
     "name": "stdout",
     "output_type": "stream",
     "text": [
      "hi\n",
      "hi\n",
      "hi\n",
      "hi\n",
      "15\n"
     ]
    }
   ],
   "source": [
    "arr=[i**2 for i in range(101)]\n",
    "print(search(arr,225))"
   ]
  },
  {
   "cell_type": "code",
   "execution_count": null,
   "id": "9963ed63",
   "metadata": {},
   "outputs": [],
   "source": []
  }
 ],
 "metadata": {
  "kernelspec": {
   "display_name": "Python 3 (ipykernel)",
   "language": "python",
   "name": "python3"
  },
  "language_info": {
   "codemirror_mode": {
    "name": "ipython",
    "version": 3
   },
   "file_extension": ".py",
   "mimetype": "text/x-python",
   "name": "python",
   "nbconvert_exporter": "python",
   "pygments_lexer": "ipython3",
   "version": "3.9.13"
  }
 },
 "nbformat": 4,
 "nbformat_minor": 5
}
