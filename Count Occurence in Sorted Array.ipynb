{
 "cells": [
  {
   "cell_type": "markdown",
   "id": "8f1d5924",
   "metadata": {},
   "source": [
    "In this question we are going to return the no of times a element comes in the array. The logic here we are using is to find the differnce between the first occurence and lastoccurence of the element and adding one to get the correct answer."
   ]
  },
  {
   "cell_type": "code",
   "execution_count": 1,
   "id": "80251128",
   "metadata": {},
   "outputs": [],
   "source": [
    "def firstocc(arr,low,high,x):\n",
    "    while low<=high:\n",
    "        mid=(low+high)//2\n",
    "        if arr[mid]<x:\n",
    "            low=mid+1\n",
    "        elif arr[mid]>x:\n",
    "            high=mid-1\n",
    "        else:\n",
    "            if mid==0 or arr[mid]!=arr[mid-1]:\n",
    "                return mid\n",
    "            else:\n",
    "                high=mid-1\n",
    "    return -1\n",
    "def lastocc(arr,low,high,x,n):\n",
    "    while low<=high:\n",
    "        mid=(low+high)//2\n",
    "        if arr[mid]<x:\n",
    "            low=mid+1\n",
    "        elif arr[mid]>x:\n",
    "            high=mid-1\n",
    "        else:\n",
    "            if mid==n-1 or arr[mid]!=arr[mid+1]:\n",
    "                return mid\n",
    "            else:\n",
    "                low=mid+1\n",
    "    return -1\n",
    "\n",
    "def count_occur(arr,el):\n",
    "    first=firstocc(arr,0,len(arr)-1,el)\n",
    "    if first==-1:return -1\n",
    "    else:\n",
    "        return lastocc(arr,0,len(arr)-1,el,len(arr))-first+1\n",
    "        \n",
    "        "
   ]
  },
  {
   "cell_type": "code",
   "execution_count": 2,
   "id": "aa05f984",
   "metadata": {},
   "outputs": [
    {
     "name": "stdout",
     "output_type": "stream",
     "text": [
      "3\n"
     ]
    }
   ],
   "source": [
    "print(count_occur([10,20,20,20,40,40],20))"
   ]
  },
  {
   "cell_type": "code",
   "execution_count": null,
   "id": "53879907",
   "metadata": {},
   "outputs": [],
   "source": []
  }
 ],
 "metadata": {
  "kernelspec": {
   "display_name": "Python 3 (ipykernel)",
   "language": "python",
   "name": "python3"
  },
  "language_info": {
   "codemirror_mode": {
    "name": "ipython",
    "version": 3
   },
   "file_extension": ".py",
   "mimetype": "text/x-python",
   "name": "python",
   "nbconvert_exporter": "python",
   "pygments_lexer": "ipython3",
   "version": "3.9.13"
  }
 },
 "nbformat": 4,
 "nbformat_minor": 5
}
