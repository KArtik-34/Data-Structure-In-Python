{
 "cells": [
  {
   "cell_type": "code",
   "execution_count": 3,
   "id": "2e6b2cf6",
   "metadata": {},
   "outputs": [],
   "source": [
    "def med(arr1,arr2,n1,n2):\n",
    "    l=0\n",
    "    h=n1\n",
    "    while l<=h:\n",
    "        div1=(l+h)//2\n",
    "        div2=(n1+n2+1)//2-div1\n",
    "\n",
    "        l1=arr1[div1-1] if div1!=0 else -float(\"inf\") \n",
    "        l2=arr2[div2-1] if div2!=0 else -float(\"inf\")\n",
    "\n",
    "        r1=arr1[div1] if div1!=n1 else float(\"inf\") \n",
    "        r2=arr2[div2] if div2!=n2 else float(\"inf\")\n",
    "\n",
    "        if (l1<=r2 and l2<=r1):\n",
    "            if (n1+n2)%2:\n",
    "                return float(max(l1,l2))\n",
    "            else:\n",
    "                return (max(l1,l2)+min(r1,r2))/2\n",
    "        elif l1>r2:\n",
    "            h=div1-1\n",
    "        else:\n",
    "            l=div1+1\n",
    "    return float(0)\n",
    "\n"
   ]
  },
  {
   "cell_type": "code",
   "execution_count": 4,
   "id": "fa4f68af",
   "metadata": {},
   "outputs": [],
   "source": [
    "nums1=[1,3,4,7,10,12]\n",
    "nums2=[2,3,6,15]"
   ]
  },
  {
   "cell_type": "code",
   "execution_count": 5,
   "id": "27455e40",
   "metadata": {},
   "outputs": [
    {
     "name": "stdout",
     "output_type": "stream",
     "text": [
      "5.0\n"
     ]
    }
   ],
   "source": [
    "print(med(nums1,nums2,len(nums1),len(nums2)) if len(nums1)<=len(nums2) else med(nums2,nums1,len(nums2),len(nums1)) )\n"
   ]
  },
  {
   "cell_type": "code",
   "execution_count": null,
   "id": "0941b818",
   "metadata": {},
   "outputs": [],
   "source": []
  }
 ],
 "metadata": {
  "kernelspec": {
   "display_name": "Python 3 (ipykernel)",
   "language": "python",
   "name": "python3"
  },
  "language_info": {
   "codemirror_mode": {
    "name": "ipython",
    "version": 3
   },
   "file_extension": ".py",
   "mimetype": "text/x-python",
   "name": "python",
   "nbconvert_exporter": "python",
   "pygments_lexer": "ipython3",
   "version": "3.9.13"
  }
 },
 "nbformat": 4,
 "nbformat_minor": 5
}
