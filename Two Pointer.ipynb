{
 "cells": [
  {
   "cell_type": "markdown",
   "id": "62b320fc",
   "metadata": {},
   "source": [
    "Find if there is a  pair with sum x in sorted array\n",
    "\n",
    "Naive approacch is to find the sum of each pair and the pair whose sum matches return True otherwise we return False\n"
   ]
  },
  {
   "cell_type": "code",
   "execution_count": 1,
   "id": "20be5448",
   "metadata": {},
   "outputs": [],
   "source": [
    "def pair(arr,x):\n",
    "    l=0\n",
    "    h=len(arr)-1\n",
    "    while l<h:\n",
    "        if arr[l]+arr[h]==x:return True\n",
    "        elif arr[l]+arr[h]>x:\n",
    "            h-=1\n",
    "        else:\n",
    "            l+=1\n",
    "    return False\n"
   ]
  },
  {
   "cell_type": "code",
   "execution_count": 2,
   "id": "dbf95402",
   "metadata": {},
   "outputs": [
    {
     "name": "stdout",
     "output_type": "stream",
     "text": [
      "True\n"
     ]
    }
   ],
   "source": [
    "print(pair([2,5,8,12,30],17))"
   ]
  },
  {
   "cell_type": "markdown",
   "id": "248b0a02",
   "metadata": {},
   "source": [
    "The time complexity of above question is  O(n) and space complexity is O(1)."
   ]
  }
 ],
 "metadata": {
  "kernelspec": {
   "display_name": "Python 3 (ipykernel)",
   "language": "python",
   "name": "python3"
  },
  "language_info": {
   "codemirror_mode": {
    "name": "ipython",
    "version": 3
   },
   "file_extension": ".py",
   "mimetype": "text/x-python",
   "name": "python",
   "nbconvert_exporter": "python",
   "pygments_lexer": "ipython3",
   "version": "3.9.13"
  }
 },
 "nbformat": 4,
 "nbformat_minor": 5
}
