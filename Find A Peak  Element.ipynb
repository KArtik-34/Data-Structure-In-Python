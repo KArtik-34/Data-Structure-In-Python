{
 "cells": [
  {
   "cell_type": "markdown",
   "id": "dda03c93",
   "metadata": {},
   "source": [
    "A element is said to be a peak element if it is greater than its neighbour.\n"
   ]
  },
  {
   "cell_type": "code",
   "execution_count": 1,
   "id": "e8aa7dc0",
   "metadata": {},
   "outputs": [],
   "source": [
    "#The naive approach to this question is to use the linear search approach.\n",
    "def peakEle(arr,n):\n",
    "    if n==1:return arr[0]\n",
    "    if arr[0]>=arr[1]:return arr[0]\n",
    "    if arr[-1]>=arr[-2]:return arr[-1]\n",
    "    for i in range(1,n-1):\n",
    "        if arr[i-1]<=arr[i]<=arr[i+1]:\n",
    "            return arr[i]\n",
    "        "
   ]
  },
  {
   "cell_type": "markdown",
   "id": "29db1650",
   "metadata": {},
   "source": [
    "The approach to find a peak element is to go to mid element first then compare it with the left and right ,if mid is greater than both then mid is the peak.\n",
    "Then which one rigth or left is greater then go to that half which is greater and peak is also available on that half.\n",
    "\n"
   ]
  },
  {
   "cell_type": "code",
   "execution_count": 3,
   "id": "06e3bb62",
   "metadata": {},
   "outputs": [],
   "source": [
    "def getpeak(arr,n):\n",
    "    low=0\n",
    "    high=n-1\n",
    "    while low<=high:\n",
    "        mid=(low+high)//2\n",
    "        if (mid==0 or arr[mid-1]<=arr[mid]) and (mid==n-1 or arr[mid+1]<=arr[mid]):\n",
    "            return mid\n",
    "        if mid>0 and arr[mid-1]>=arr[mid]:\n",
    "            high=mid-1\n",
    "        else:\n",
    "            low=mid+1\n",
    "    return -1\n",
    "            "
   ]
  },
  {
   "cell_type": "code",
   "execution_count": 4,
   "id": "5bedad96",
   "metadata": {},
   "outputs": [
    {
     "name": "stdout",
     "output_type": "stream",
     "text": [
      "2\n"
     ]
    }
   ],
   "source": [
    "print(getpeak([5,20,40,30,20,50,60],7))"
   ]
  },
  {
   "cell_type": "code",
   "execution_count": null,
   "id": "107975a2",
   "metadata": {},
   "outputs": [],
   "source": []
  }
 ],
 "metadata": {
  "kernelspec": {
   "display_name": "Python 3 (ipykernel)",
   "language": "python",
   "name": "python3"
  },
  "language_info": {
   "codemirror_mode": {
    "name": "ipython",
    "version": 3
   },
   "file_extension": ".py",
   "mimetype": "text/x-python",
   "name": "python",
   "nbconvert_exporter": "python",
   "pygments_lexer": "ipython3",
   "version": "3.9.13"
  }
 },
 "nbformat": 4,
 "nbformat_minor": 5
}
